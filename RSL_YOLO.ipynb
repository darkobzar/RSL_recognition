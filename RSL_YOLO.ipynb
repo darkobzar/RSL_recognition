{
 "cells": [
  {
   "cell_type": "code",
   "execution_count": null,
   "id": "wjlf9iPf82eJ",
   "metadata": {
    "executionInfo": {
     "elapsed": 33,
     "status": "ok",
     "timestamp": 1748524895000,
     "user": {
      "displayName": "Darya Kobzar",
      "userId": "02287906564852147527"
     },
     "user_tz": -180
    },
    "id": "wjlf9iPf82eJ"
   },
   "outputs": [],
   "source": [
    "from ultralytics import YOLO\n",
    "import yaml"
   ]
  },
  {
   "cell_type": "code",
   "execution_count": null,
   "id": "it_Pvrj3H-sT",
   "metadata": {
    "executionInfo": {
     "elapsed": 11,
     "status": "ok",
     "timestamp": 1748524896155,
     "user": {
      "displayName": "Darya Kobzar",
      "userId": "02287906564852147527"
     },
     "user_tz": -180
    },
    "id": "it_Pvrj3H-sT"
   },
   "outputs": [],
   "source": [
    "with open(\"./RSL.yaml\") as f:\n",
    "    config = yaml.safe_load(f)"
   ]
  },
  {
   "cell_type": "code",
   "execution_count": null,
   "id": "31dbd51b",
   "metadata": {
    "id": "31dbd51b"
   },
   "outputs": [],
   "source": [
    "model5 = YOLO(\"yolov5mu.pt\")\n",
    "\n",
    "results5 = model5.train(data=config['yolo']['train_yaml'], epochs=5, batch=8)"
   ]
  },
  {
   "cell_type": "code",
   "execution_count": null,
   "id": "ALX8buXx-sBH",
   "metadata": {
    "id": "ALX8buXx-sBH"
   },
   "outputs": [],
   "source": [
    "model8 = YOLO(\"yolov8n.pt\")\n",
    "\n",
    "results8 = model8.train(data=config['yolo']['train_yaml'], epochs=5, batch=8)"
   ]
  },
  {
   "cell_type": "code",
   "execution_count": null,
   "id": "s5FgMh1e-sIV",
   "metadata": {
    "id": "s5FgMh1e-sIV"
   },
   "outputs": [],
   "source": [
    "model9 = YOLO(\"yolov9s.pt\")\n",
    "\n",
    "results9 = model9.train(data=config['yolo']['train_yaml'], epochs=5, batch=8)"
   ]
  },
  {
   "cell_type": "code",
   "execution_count": null,
   "id": "LD5gSyLdKIdK",
   "metadata": {
    "colab": {
     "base_uri": "https://localhost:8080/",
     "height": 350
    },
    "executionInfo": {
     "elapsed": 22,
     "status": "error",
     "timestamp": 1748525136320,
     "user": {
      "displayName": "Darya Kobzar",
      "userId": "02287906564852147527"
     },
     "user_tz": -180
    },
    "id": "LD5gSyLdKIdK",
    "outputId": "24ed6cd7-82ed-4667-e92f-5d10412500b4"
   },
   "outputs": [],
   "source": [
    "import sys\n",
    "import os\n",
    "\n",
    "from YOLO import test_iou, classify_metrics"
   ]
  },
  {
   "cell_type": "code",
   "execution_count": null,
   "id": "e3b1dcb0-fd4c-42a2-8127-e3eb6113d9e6",
   "metadata": {
    "id": "e3b1dcb0-fd4c-42a2-8127-e3eb6113d9e6",
    "scrolled": true
   },
   "outputs": [],
   "source": [
    "test_iou(model=model5, test_txt_path=config['yolo']['test_txt_path'])"
   ]
  },
  {
   "cell_type": "code",
   "execution_count": null,
   "id": "f9baea9d-9d00-4cbb-9dd3-e4b5e3173438",
   "metadata": {
    "id": "f9baea9d-9d00-4cbb-9dd3-e4b5e3173438",
    "scrolled": true
   },
   "outputs": [],
   "source": [
    "test_iou(model=model8, test_txt_path=config['yolo']['test_txt_path'])"
   ]
  },
  {
   "cell_type": "code",
   "execution_count": null,
   "id": "ac17df59-cf2b-40d4-bee9-6ad90ebedba8",
   "metadata": {
    "id": "ac17df59-cf2b-40d4-bee9-6ad90ebedba8",
    "scrolled": true
   },
   "outputs": [],
   "source": [
    "test_iou(model=model9, test_txt_path=config['yolo']['test_txt_path'])"
   ]
  },
  {
   "cell_type": "code",
   "execution_count": null,
   "id": "34ac0cac-6225-48f3-8042-49f16cd4eab6",
   "metadata": {
    "id": "34ac0cac-6225-48f3-8042-49f16cd4eab6",
    "scrolled": true
   },
   "outputs": [],
   "source": [
    "metrics = classify_metrics(model=model8, test_txt_path=config['yolo']['test_txt_path'])"
   ]
  }
 ],
 "metadata": {
  "colab": {
   "provenance": []
  },
  "kernelspec": {
   "display_name": "Python 3 (ipykernel)",
   "language": "python",
   "name": "python3"
  },
  "language_info": {
   "codemirror_mode": {
    "name": "ipython",
    "version": 3
   },
   "file_extension": ".py",
   "mimetype": "text/x-python",
   "name": "python",
   "nbconvert_exporter": "python",
   "pygments_lexer": "ipython3",
   "version": "3.11.5"
  }
 },
 "nbformat": 4,
 "nbformat_minor": 5
}
