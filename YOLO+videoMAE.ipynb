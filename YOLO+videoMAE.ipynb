{
 "cells": [
  {
   "cell_type": "code",
   "execution_count": null,
   "id": "06105ac5-2a78-4db9-b664-73a45bf11a33",
   "metadata": {},
   "outputs": [],
   "source": [
    "from YOLO_videoMAE import extract_frames, get_bbox, evaluate, VideoDataset\n"
   ]
  },
  {
   "cell_type": "code",
   "execution_count": null,
   "id": "b9fb96cd-91c9-43ce-9b08-5b0d10846803",
   "metadata": {},
   "outputs": [],
   "source": [
    "video_file = \"C:/Users/user/Downloads/2_1.mp4\"  \n",
    "output_dir = \"output_frames\"    \n",
    "\n",
    "extract_frames(video_file, output_dir)"
   ]
  },
  {
   "cell_type": "code",
   "execution_count": null,
   "id": "2541de9a-02a9-429d-8f57-3f72c5450c7c",
   "metadata": {},
   "outputs": [],
   "source": [
    "import yaml\n",
    "\n",
    "with open(\"./RSL.yaml\") as f:\n",
    "    config = yaml.safe_load(f)"
   ]
  },
  {
   "cell_type": "code",
   "execution_count": null,
   "id": "a0169627-9452-4a99-8bad-53e201270c84",
   "metadata": {},
   "outputs": [],
   "source": [
    "from ultralytics import YOLO\n",
    "model = YOLO(\"yolov8n.pt\")"
   ]
  },
  {
   "cell_type": "code",
   "execution_count": null,
   "id": "4e794468-50fd-4c4c-af6f-b1d4dc297864",
   "metadata": {},
   "outputs": [],
   "source": [
    "detections = get_bbox(output_dir, model)"
   ]
  },
  {
   "cell_type": "code",
   "execution_count": null,
   "id": "739805ee-8de6-42c8-99e2-51a89f956a86",
   "metadata": {},
   "outputs": [],
   "source": [
    "from torchvision import transforms\n",
    "import torch\n",
    "\n",
    "transform = transforms.Compose([\n",
    "    transforms.Resize((224, 224)),\n",
    "    transforms.ToTensor(),\n",
    "    transforms.Lambda(lambda x: torch.clamp(x * 1.3, 0, 1)),\n",
    "    transforms.Normalize(mean=[0.5]*3, std=[0.5]*3)\n",
    "])\n",
    "\n",
    "\n",
    "test_dataset = VideoDataset(\n",
    "    frames_dir=\"C:/Users/user/Downloads/src/output_frames\" ,\n",
    "    anno=detections,\n",
    "    clip_len=8,\n",
    "    transform=transform\n",
    ")"
   ]
  },
  {
   "cell_type": "code",
   "execution_count": null,
   "id": "468e3bb1-59d9-4250-96f3-e8e9eb4f1fc1",
   "metadata": {},
   "outputs": [],
   "source": [
    "from torch.utils.data import DataLoader\n",
    "\n",
    "test_loader = DataLoader(\n",
    "    dataset=test_dataset,\n",
    "    batch_size=4,\n",
    "    shuffle=False,\n",
    "    num_workers=0,\n",
    "    pin_memory=True\n",
    ")"
   ]
  },
  {
   "cell_type": "code",
   "execution_count": null,
   "id": "38964dda-cb5d-4fec-9b45-184405ffee07",
   "metadata": {},
   "outputs": [],
   "source": [
    "from transformers import VideoMAEForVideoClassification\n",
    "import torch.nn as nn\n",
    "\n",
    "model = VideoMAEForVideoClassification.from_pretrained(\n",
    "    config['vit']['pr_model'],\n",
    "    num_labels=33,\n",
    "    ignore_mismatched_sizes=True,\n",
    "    num_frames=8,\n",
    "    attention_probs_dropout_prob=0.1,\n",
    "    hidden_dropout_prob=0.2\n",
    ")\n",
    "\n",
    "model.classifier = nn.Sequential(\n",
    "    nn.Linear(model.config.hidden_size, 256),\n",
    "    nn.ReLU(),\n",
    "    nn.Dropout(0.2),\n",
    "    nn.Linear(256, model.config.num_labels )\n",
    ")"
   ]
  },
  {
   "cell_type": "code",
   "execution_count": null,
   "id": "9bee0421-cfb9-4980-a152-5362189651fe",
   "metadata": {},
   "outputs": [],
   "source": [
    "device = torch.device(\"cuda\" if torch.cuda.is_available() else \"cpu\")\n",
    "model.to(device)"
   ]
  },
  {
   "cell_type": "code",
   "execution_count": null,
   "id": "51880283-a275-4238-82ef-e908647366ed",
   "metadata": {},
   "outputs": [],
   "source": [
    "evaluate(model, test_loader, device)"
   ]
  }
 ],
 "metadata": {
  "kernelspec": {
   "display_name": "Python 3 (ipykernel)",
   "language": "python",
   "name": "python3"
  },
  "language_info": {
   "codemirror_mode": {
    "name": "ipython",
    "version": 3
   },
   "file_extension": ".py",
   "mimetype": "text/x-python",
   "name": "python",
   "nbconvert_exporter": "python",
   "pygments_lexer": "ipython3",
   "version": "3.11.5"
  }
 },
 "nbformat": 4,
 "nbformat_minor": 5
}
